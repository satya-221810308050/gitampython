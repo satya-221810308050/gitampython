{
 "cells": [
  {
   "cell_type": "markdown",
   "metadata": {},
   "source": [
    "# DAY OBJECTIVES:\n",
    "python data structures\n",
    "* lists\n",
    "* tuples\n",
    "*dictionaries\n",
    "                ** basic programming sets on data structures\n",
    "                ** advanced problem set \n",
    "                ** contact application(dictionary object)\n",
    "                \n",
    "                #data structures;\n",
    "                * to store,search and sort the data\n",
    "          ### python data structures\n",
    "          ### lists\n",
    "          - it's one of common data structures supports by python ,the list items are separated by comma operator and enclosed is square brackets\n",
    "          #example:\n",
    "          list1 = [1,6,2,18,9]\n",
    "          list2 = [\"gitam\",10,12,15,5,\"hyderabad\"]"
   ]
  },
  {
   "cell_type": "code",
   "execution_count": 2,
   "metadata": {},
   "outputs": [
    {
     "name": "stdout",
     "output_type": "stream",
     "text": [
      "[1, 8, 16, 9, 2]\n",
      "1\n",
      "8\n",
      "2\n",
      "9\n",
      "[8, 16, 9, 2]\n",
      "[8, 16, 9]\n"
     ]
    }
   ],
   "source": [
    "lst = [1,8,16,9,2]\n",
    "print(lst)#access the entire list\n",
    "print(lst[0])#access the first item list\n",
    "print(lst[1])#access the second item list\n",
    "print(lst[-1])#access the last item list\n",
    "print(lst[-2])#access \n",
    "print(lst[1:])\n",
    "print(lst[1:4])"
   ]
  },
  {
   "cell_type": "code",
   "execution_count": 3,
   "metadata": {},
   "outputs": [
    {
     "name": "stdout",
     "output_type": "stream",
     "text": [
      "['gitam', 'python', 1989, 2002]\n",
      "['gitam', 'python', 2019, 2002]\n"
     ]
    }
   ],
   "source": [
    "li = [\"gitam\",\"python\",1989,2002]\n",
    "print(li)\n",
    "li[2] = 2019\n",
    "print(li)"
   ]
  },
  {
   "cell_type": "code",
   "execution_count": 4,
   "metadata": {},
   "outputs": [
    {
     "name": "stdout",
     "output_type": "stream",
     "text": [
      "['gitam', 'python', 2019, 2002]\n",
      "['gitam', 'python', 2002]\n"
     ]
    }
   ],
   "source": [
    "# delet the specific item in the list\n",
    "print(li)\n",
    "del li[2]\n",
    "print(li)"
   ]
  },
  {
   "cell_type": "code",
   "execution_count": 5,
   "metadata": {},
   "outputs": [
    {
     "name": "stdout",
     "output_type": "stream",
     "text": [
      "5\n",
      "[1, 9, 6, 18, 2, 1, 9, 6, 18, 2]\n",
      "5\n",
      "True\n",
      "False\n",
      "196182"
     ]
    }
   ],
   "source": [
    "# basic list operations\n",
    "lst1=[1,9,6,18,2]\n",
    "print(len(lst1))# length of the list\n",
    "print(lst1 * 2)#repetation\n",
    "print(len(lst1))\n",
    "print(9 in lst1)\n",
    "print(15 in lst1)\n",
    "for x in range(len(lst1)):\n",
    "    print(lst1[x],end='')"
   ]
  },
  {
   "cell_type": "code",
   "execution_count": 7,
   "metadata": {},
   "outputs": [
    {
     "name": "stdout",
     "output_type": "stream",
     "text": [
      "1\n",
      "18\n",
      "36\n",
      "7\n",
      "13.5\n"
     ]
    }
   ],
   "source": [
    "lst1\n",
    "print(min(lst1))# min element of  the list\n",
    "print(max(lst1))# max element of the list\n",
    "print(sum(lst1))# sum of all the elements of the list\n",
    "print(sum(lst1)//len(lst1))# average of list elements\n",
    "print(sum(lst1[1::2])/len(lst1[1::2]))# average of all the "
   ]
  },
  {
   "cell_type": "code",
   "execution_count": 36,
   "metadata": {},
   "outputs": [
    {
     "data": {
      "text/plain": [
       "[45, 23, 56, 45, 24, 23, 21, 16, 12, 8, 1]"
      ]
     },
     "execution_count": 36,
     "metadata": {},
     "output_type": "execute_result"
    }
   ],
   "source": [
    "lst1\n",
    "lst1.append(24)#adding a new element at the end of the list\n",
    "lst1\n",
    "lst1.insert(2,56)#adding an element at particular index\n",
    "lst1\n",
    "lst1.count(18)# return the value how many times the object repeated\n",
    "lst1\n",
    "lst1.index(56)\n",
    "lst1\n",
    "lst1.sort()# it's a sort the list in asscending order\n",
    "lst1\n",
    "lst1.pop()# remove the last element from the list\n",
    "lst1\n",
    "lst2 =[123,23,45]\n",
    "lst1.extend(lst2)# merge the list2 in to list1\n",
    "lst1\n",
    "lst1.reverse()\n",
    "lst1\n",
    "lst1.remove(123)\n",
    "lst1"
   ]
  },
  {
   "cell_type": "code",
   "execution_count": 38,
   "metadata": {},
   "outputs": [
    {
     "data": {
      "text/plain": [
       "[1, 12, 8, 16, 21, 23, 45]"
      ]
     },
     "execution_count": 38,
     "metadata": {},
     "output_type": "execute_result"
    }
   ],
   "source": [
    "lst1=[1,12,8,16,21]\n",
    "lst2 =[123,23,45]\n",
    "lst1.extend(lst2)\n",
    "lst1\n",
    "lst1.remove(123)\n",
    "lst1"
   ]
  },
  {
   "cell_type": "code",
   "execution_count": 33,
   "metadata": {},
   "outputs": [
    {
     "name": "stdout",
     "output_type": "stream",
     "text": [
      "[3, 2]\n"
     ]
    }
   ],
   "source": [
    "li =[1,9,8,2,6,3]\n",
    "print(li[-1:2:-2])"
   ]
  },
  {
   "cell_type": "code",
   "execution_count": 43,
   "metadata": {},
   "outputs": [
    {
     "data": {
      "text/plain": [
       "6"
      ]
     },
     "execution_count": 43,
     "metadata": {},
     "output_type": "execute_result"
    }
   ],
   "source": [
    "# functionsto find the second large item from the list time\n",
    "#input : [1,19,6,2,8,18,3]\n",
    "#output : 18\n",
    "def secondlarge(li):\n",
    "    li.sort()         #sort the list using sort()\n",
    "    return li[-2]       # return the value from reverse direction[-li2]\n",
    "def genericlarge(li,n):\n",
    "    li.sort()\n",
    "    return li[-n]\n",
    "li = [1,19,6,2,8,18,3]\n",
    "genericlarge(li,4)\n"
   ]
  },
  {
   "cell_type": "code",
   "execution_count": 46,
   "metadata": {},
   "outputs": [
    {
     "data": {
      "text/plain": [
       "6"
      ]
     },
     "execution_count": 46,
     "metadata": {},
     "output_type": "execute_result"
    }
   ],
   "source": [
    "# function  to find the least item from the list\n",
    "# input : [1,19,6,2,8,18,3]\n",
    "#output : 2\n",
    "def secondleast(li):\n",
    "    li.sort()\n",
    "    return li[1]\n",
    "def genericleast(li,n):\n",
    "    li.sort()\n",
    "    return li[n-1]\n",
    "li=[1,19,6,2,8,18,3]\n",
    "genericleast(li,4)"
   ]
  },
  {
   "cell_type": "code",
   "execution_count": 5,
   "metadata": {},
   "outputs": [
    {
     "data": {
      "text/plain": [
       "5"
      ]
     },
     "execution_count": 5,
     "metadata": {},
     "output_type": "execute_result"
    }
   ],
   "source": [
    "# function to search data in list\n",
    "# search is found then return the index if not -1\n",
    "def linearsearch(a,taritem):\n",
    "    for x in range(len(a)):\n",
    "        if a[x] == taritem:\n",
    "            return x\n",
    "    return -1\n",
    "a=[1,19,6,2,8,18,3]\n",
    "linearsearch(a,225)\n",
    "linearsearch(a,18)"
   ]
  },
  {
   "cell_type": "code",
   "execution_count": 6,
   "metadata": {},
   "outputs": [
    {
     "name": "stdout",
     "output_type": "stream",
     "text": [
      "1 4 8 "
     ]
    }
   ],
   "source": [
    "# function\n",
    "#input :[1,5,9,6,5,15,1,2,5],key=5#duplicate\n",
    "#output:1 4 8\n",
    "def linearsearch2(li,taritem):\n",
    "    for x in range(len(li)):\n",
    "        if li[x] == taritem:\n",
    "            print(x,end=\" \")\n",
    "    return\n",
    "li=[1,5,9,6,5,15,1,2,5]\n",
    "linearsearch2(li,5)"
   ]
  },
  {
   "cell_type": "code",
   "execution_count": 8,
   "metadata": {},
   "outputs": [
    {
     "name": "stdout",
     "output_type": "stream",
     "text": [
      "! ! ! ! ! ! ! ! ! ! ! ! ! ! ! ! "
     ]
    }
   ],
   "source": [
    "# function\n",
    "#input : list\n",
    "#output : seq of characters\n",
    "# test case\n",
    "#1,5,9,6,5,15,1,2,5,tar=5--!! !!!!!! !!!!!!!!!\n",
    "def linearsearch3(li,taritem):\n",
    "# implement the logic\n",
    "    for x in range(len(li)):\n",
    "        if li[x] == taritem:\n",
    "            j=0\n",
    "            while j!=x+1:\n",
    "                print(\"!\",end=\"\")\n",
    "                j=j+1\n",
    "                print(end=\" \")\n",
    "    return\n",
    "li=[1,5,9,6,5,15,1,2,5]\n",
    "linearsearch3(li,5)"
   ]
  },
  {
   "cell_type": "code",
   "execution_count": 4,
   "metadata": {},
   "outputs": [
    {
     "data": {
      "text/plain": [
       "60"
      ]
     },
     "execution_count": 4,
     "metadata": {},
     "output_type": "execute_result"
    }
   ],
   "source": [
    "#function\n",
    "#input:list\n",
    "#output: formatted\n",
    "#test case:\n",
    "#[12,2,45,9,18,15,36]---60\n",
    "# a list item which is perfectmultiple of 3 and 5\n",
    "def perfectmultiple(li):\n",
    "            sum=0\n",
    "            for x in range(len(li)):\n",
    "                if li[x]%3==0 and li[x]%5 == 0:\n",
    "                    sum =sum+li[x]\n",
    "            return sum\n",
    "li=[12,2,45,9,18,15,36]\n",
    "perfectmultiple(li)\n",
    "\n",
    "        "
   ]
  },
  {
   "cell_type": "code",
   "execution_count": 12,
   "metadata": {},
   "outputs": [
    {
     "name": "stdout",
     "output_type": "stream",
     "text": [
      "1 3 8 15 5 "
     ]
    }
   ],
   "source": [
    "# function\n",
    "#input :list\n",
    "#output : formatted output\n",
    "#test case:\n",
    "#[1,2,3,4,5]----[1,3,8,15,5]\n",
    "#[6,5,2,8,2]----[6,12,40,4,2]\n",
    "# 1. print first and last as it is because first number does not have previous and last does not have number.\n",
    "#2. need to multiply  the previous and next number\n",
    "def linearsearch4(li):\n",
    "    for x in range(len(li)):\n",
    "        if x==0 or x==len(li)-1:\n",
    "            print(li[x],end=\" \")\n",
    "        else:\n",
    "            print(li[x-1]*li[x+1],end= \" \")\n",
    "    return\n",
    "li=[1,2,3,4,5]\n",
    "linearsearch4(li)\n",
    "        "
   ]
  },
  {
   "cell_type": "code",
   "execution_count": 4,
   "metadata": {},
   "outputs": [
    {
     "name": "stdout",
     "output_type": "stream",
     "text": [
      "1  9  19  22  "
     ]
    }
   ],
   "source": [
    "#functions\n",
    "#input: list\n",
    "#output: formatted output\n",
    "#test cases:\n",
    "#[1,6,9,4,16,19,22]---1 9 19 22\n",
    "##** first and last element print as it is\n",
    "##** both sides numbers are even then print it\n",
    "def linearsearch6(li):\n",
    "    #implemented the logic\n",
    "    for x in range(len(li)):\n",
    "        if x==0 or x==len(li)-1:\n",
    "            print(li[x],end=\"  \")\n",
    "        elif li[x-1]%2==0 and li[x+1]%2==0:\n",
    "            print(li[x],end=\"  \")\n",
    "    return\n",
    "li=[1,6,9,4,16,19,22]\n",
    "linearsearch6(li)\n",
    "        \n",
    "    "
   ]
  },
  {
   "cell_type": "code",
   "execution_count": 7,
   "metadata": {},
   "outputs": [
    {
     "data": {
      "text/plain": [
       "[1, 4, 5, 6, 9]"
      ]
     },
     "execution_count": 7,
     "metadata": {},
     "output_type": "execute_result"
    }
   ],
   "source": [
    "# number to list\n",
    "#* input as number\n",
    "#* expected output will be  list\n",
    "#*test cases:-\n",
    "#14569 -- [1,4,5,6,,9]\n",
    "#1990 -- [1,9,9,0]\n",
    "def numberlistconversation(n):\n",
    "    li = []\n",
    "    while n != 0:\n",
    "        r=n%10\n",
    "        li.append(r)\n",
    "        n = n//10\n",
    "    li.reverse()\n",
    "    return li\n",
    "numberlistconversation(14569)\n",
    "        "
   ]
  },
  {
   "cell_type": "code",
   "execution_count": 8,
   "metadata": {},
   "outputs": [
    {
     "data": {
      "text/plain": [
       "2"
      ]
     },
     "execution_count": 8,
     "metadata": {},
     "output_type": "execute_result"
    }
   ],
   "source": [
    "# function to print the accurances of character in a string\n",
    "#\"python programming\", p -->2\n",
    "#\"python programming\", m-->2\n",
    "def  countchar(s,c):\n",
    "    cnt = 0\n",
    "    for ch in s:\n",
    "        if ch == c:\n",
    "            cnt=cnt+1\n",
    "    return cnt\n",
    "countchar(\"python programming\",'m')"
   ]
  },
  {
   "cell_type": "code",
   "execution_count": 16,
   "metadata": {},
   "outputs": [
    {
     "data": {
      "text/plain": [
       "[1, 2, 3, 4, 5, 6]"
      ]
     },
     "execution_count": 16,
     "metadata": {},
     "output_type": "execute_result"
    }
   ],
   "source": [
    "##string to list conversion\n",
    "##** input will be string\n",
    "##** expected output will be list\n",
    "# function to convert the string to list\n",
    "#test case\n",
    "#\"1 2 3 4 5 6\"---[1,2,3,4,5,6]\n",
    "def stringtolistconversation(s):\n",
    "    li=s.split()\n",
    "    numberslist = []\n",
    "    for i in li:\n",
    "        numberslist.append(int(i))\n",
    "    return numberslist\n",
    "s=\"1 2 3 4 5 6\"\n",
    "stringtolistconversation(s)"
   ]
  },
  {
   "cell_type": "code",
   "execution_count": null,
   "metadata": {},
   "outputs": [],
   "source": [
    "##sorting algorithms:\n",
    "** all the sorting algorithms makes the list in to according order\n",
    "--> bubble sort: this algorithm compares \n",
    "-->selection sort\n",
    "---> insertion"
   ]
  },
  {
   "cell_type": "code",
   "execution_count": 17,
   "metadata": {},
   "outputs": [
    {
     "data": {
      "text/plain": [
       "[1, 3, 6, 18, 19, 25]"
      ]
     },
     "execution_count": 17,
     "metadata": {},
     "output_type": "execute_result"
    }
   ],
   "source": [
    "# function to represent  the bubble sort\n",
    "def bubblesort(li):\n",
    "    for i in range(len(li)-1):\n",
    "        for j in range(len(li)-1):\n",
    "            if li[j] > li[j+1]:\n",
    "                li[j],li[j+1] =li[j+1],li[j]\n",
    "    return li\n",
    "li =[19,1,25,6,18,3]\n",
    "bubblesort(li)"
   ]
  },
  {
   "cell_type": "code",
   "execution_count": null,
   "metadata": {},
   "outputs": [],
   "source": []
  }
 ],
 "metadata": {
  "kernelspec": {
   "display_name": "Python 3",
   "language": "python",
   "name": "python3"
  },
  "language_info": {
   "codemirror_mode": {
    "name": "ipython",
    "version": 3
   },
   "file_extension": ".py",
   "mimetype": "text/x-python",
   "name": "python",
   "nbconvert_exporter": "python",
   "pygments_lexer": "ipython3",
   "version": "3.7.3"
  }
 },
 "nbformat": 4,
 "nbformat_minor": 2
}
