{
 "cells": [
  {
   "cell_type": "markdown",
   "metadata": {},
   "source": [
    "## DATA STRUCTURES\n",
    " ** DICTIONARIES\n",
    "     ** TUPLES"
   ]
  },
  {
   "cell_type": "markdown",
   "metadata": {},
   "source": [
    "# DICTIONARIES\n",
    "** it works on concept of set unquie data\n",
    "** keys,values is the unquie identifier for a value\n",
    "** each key is separated from its value with colon(:)\n",
    "** each key and value is separated by comma(,)\n",
    "dictionaries enclosed with curly braces({})\n",
    "### TUPLES:\n",
    "** t1 paraenthesis() li square brackets[]\n",
    "** difference between list and tuples\n",
    "**list are mutable - can be changed/modified\n",
    "-->used to access modifu,add,delete data\n",
    "**tuples are immutable - cannot be changed\n",
    "-->used to access data only"
   ]
  },
  {
   "cell_type": "code",
   "execution_count": 1,
   "metadata": {},
   "outputs": [
    {
     "name": "stdout",
     "output_type": "stream",
     "text": [
      "{'name': 'satya', 'emailid': 'satyapavanip@gmail.com', 'address': 'hyd'}\n"
     ]
    }
   ],
   "source": [
    "d1 ={\"name\":\"satya\",\"emailid\":\"satyapavanip@gmail.com\",\"address\":\"hyd\"}\n",
    "print(d1)"
   ]
  },
  {
   "cell_type": "code",
   "execution_count": 11,
   "metadata": {},
   "outputs": [
    {
     "data": {
      "text/plain": [
       "'satya'"
      ]
     },
     "execution_count": 11,
     "metadata": {},
     "output_type": "execute_result"
    }
   ],
   "source": [
    "d1[\"name\"]"
   ]
  },
  {
   "cell_type": "code",
   "execution_count": 6,
   "metadata": {},
   "outputs": [
    {
     "name": "stdout",
     "output_type": "stream",
     "text": [
      "gitam.python@gmail.com\n"
     ]
    }
   ],
   "source": [
    "d1[\"emailid\"]=\"gitam.python@gmail.com\"\n",
    "print(d1[\"emailid\"])"
   ]
  },
  {
   "cell_type": "code",
   "execution_count": 9,
   "metadata": {},
   "outputs": [
    {
     "ename": "KeyError",
     "evalue": "'emailid'",
     "output_type": "error",
     "traceback": [
      "\u001b[1;31m---------------------------------------------------------------------------\u001b[0m",
      "\u001b[1;31mKeyError\u001b[0m                                  Traceback (most recent call last)",
      "\u001b[1;32m<ipython-input-9-e6205324d70c>\u001b[0m in \u001b[0;36m<module>\u001b[1;34m\u001b[0m\n\u001b[1;32m----> 1\u001b[1;33m \u001b[1;32mdel\u001b[0m \u001b[0md1\u001b[0m\u001b[1;33m[\u001b[0m\u001b[1;34m\"emailid\"\u001b[0m\u001b[1;33m]\u001b[0m\u001b[1;33m\u001b[0m\u001b[1;33m\u001b[0m\u001b[0m\n\u001b[0m",
      "\u001b[1;31mKeyError\u001b[0m: 'emailid'"
     ]
    }
   ],
   "source": [
    "del d1[\"emailid\"]"
   ]
  },
  {
   "cell_type": "code",
   "execution_count": 10,
   "metadata": {},
   "outputs": [
    {
     "data": {
      "text/plain": [
       "dict_keys(['name', 'address'])"
      ]
     },
     "execution_count": 10,
     "metadata": {},
     "output_type": "execute_result"
    }
   ],
   "source": [
    "d1.keys()#returns the list of j=keys\n"
   ]
  },
  {
   "cell_type": "code",
   "execution_count": 13,
   "metadata": {},
   "outputs": [
    {
     "data": {
      "text/plain": [
       "dict_values(['satya', 'hyd'])"
      ]
     },
     "execution_count": 13,
     "metadata": {},
     "output_type": "execute_result"
    }
   ],
   "source": [
    "d1.values() #returns the value\n"
   ]
  },
  {
   "cell_type": "code",
   "execution_count": 14,
   "metadata": {},
   "outputs": [
    {
     "data": {
      "text/plain": [
       "dict_items([('name', 'satya'), ('address', 'hyd')])"
      ]
     },
     "execution_count": 14,
     "metadata": {},
     "output_type": "execute_result"
    }
   ],
   "source": [
    "d1.items()# the list of tuples of keys and values"
   ]
  },
  {
   "cell_type": "code",
   "execution_count": 17,
   "metadata": {},
   "outputs": [
    {
     "data": {
      "text/plain": [
       "tuple"
      ]
     },
     "execution_count": 17,
     "metadata": {},
     "output_type": "execute_result"
    }
   ],
   "source": [
    "t1=(1,2,3,4,5,6)\n",
    "t1\n",
    "type(t1)"
   ]
  },
  {
   "cell_type": "markdown",
   "metadata": {},
   "source": [
    "# ## contact appliction\n",
    "** add contact\n",
    "** search the contact\n",
    "** list all contacts\n",
    "    * name1: phone 1\n",
    "    * name 2: phone 2\n",
    "    ** modify the contact\n",
    "    ** remove the contact\n",
    "    ** import the contact"
   ]
  },
  {
   "cell_type": "code",
   "execution_count": 18,
   "metadata": {},
   "outputs": [
    {
     "name": "stdout",
     "output_type": "stream",
     "text": [
      "contact is details are added\n",
      "contact is details are added\n"
     ]
    }
   ],
   "source": [
    "# add contact \n",
    "contacts = {}# creating a dic object\n",
    "def addcontact(name,phone):\n",
    "    if name not in contacts:\n",
    "        contacts[name] = phone\n",
    "        print(\"contact is details are added\")\n",
    "    else:​addcontact(\"satya\",\"9100164195\")\n",
    "        print(\"contact details are already exists\")\n",
    "    return\n",
    "addcontact(\"satya\",\"9100164195\")\n",
    "addcontact(\"mani\",\"9195153992\")"
   ]
  },
  {
   "cell_type": "code",
   "execution_count": 21,
   "metadata": {},
   "outputs": [
    {
     "name": "stdout",
     "output_type": "stream",
     "text": [
      "satya : 9100164195\n",
      "mani : 9195153992\n",
      "santhu does not exists\n"
     ]
    }
   ],
   "source": [
    "# search for contact details\n",
    "def searchcontact(name):\n",
    "    if name in contacts:\n",
    "        print(name,\":\",contacts[name])\n",
    "    else:\n",
    "        print(\"%s does not exists\"% name)\n",
    "    return\n",
    "searchcontact(\"satya\")\n",
    "searchcontact(\"mani\")\n",
    "searchcontact(\"santhu\")"
   ]
  },
  {
   "cell_type": "code",
   "execution_count": 24,
   "metadata": {},
   "outputs": [
    {
     "name": "stdout",
     "output_type": "stream",
     "text": [
      "2 contacts added success\n"
     ]
    }
   ],
   "source": [
    "# import some contacts\n",
    "# merge the contacts with existing one\n",
    "def importcontacts(newcontacts):\n",
    "    contacts.update(newcontacts)\n",
    "    print(len(newcontacts.keys()),\"contacts added success\")\n",
    "    return\n",
    "newcontacts={'pandhu':9988776655,'arvind':44556677889}\n",
    "importcontacts(newcontacts)"
   ]
  },
  {
   "cell_type": "code",
   "execution_count": 25,
   "metadata": {},
   "outputs": [
    {
     "data": {
      "text/plain": [
       "{'satya': '9100164195',\n",
       " 'mani': '9195153992',\n",
       " 'pandhu': 9988776655,\n",
       " 'arvind': 44556677889}"
      ]
     },
     "execution_count": 25,
     "metadata": {},
     "output_type": "execute_result"
    }
   ],
   "source": [
    "contacts"
   ]
  },
  {
   "cell_type": "code",
   "execution_count": 31,
   "metadata": {},
   "outputs": [
    {
     "name": "stdout",
     "output_type": "stream",
     "text": [
      "satya deleted successfully\n"
     ]
    }
   ],
   "source": [
    "# delete a contact\n",
    "def deletecontact(name):\n",
    "    if name in contacts:\n",
    "        del contacts[name]\n",
    "        print(name,\"deleted successfully\")\n",
    "    else:\n",
    "        print(name,\"not exists\")\n",
    "    return\n",
    "deletecontact('satya')"
   ]
  },
  {
   "cell_type": "code",
   "execution_count": 41,
   "metadata": {},
   "outputs": [
    {
     "name": "stdout",
     "output_type": "stream",
     "text": [
      "pandhu updated successfully\n",
      "mahi not exists\n"
     ]
    }
   ],
   "source": [
    "# update the contact details\n",
    "def deletecontact2(name,phone):\n",
    "    if name in contacts:\n",
    "        contacts[name] = phone\n",
    "        print(name,\"updated successfully\")\n",
    "    else:\n",
    "        print(name,\"not exists\")\n",
    "    return\n",
    "deletecontact2('pandhu',9988776655)\n",
    "deletecontact2('mahi',445566778899)"
   ]
  },
  {
   "cell_type": "markdown",
   "metadata": {},
   "source": [
    "# ASSIGNMENT QUESTIONS"
   ]
  },
  {
   "cell_type": "code",
   "execution_count": 3,
   "metadata": {},
   "outputs": [
    {
     "name": "stdout",
     "output_type": "stream",
     "text": [
      "1\n",
      "3\n",
      "8\n",
      "15\n",
      "27\n",
      "50\n",
      "92\n",
      "169\n",
      "311\n",
      "572\n",
      "1052\n",
      "1935\n"
     ]
    }
   ],
   "source": [
    "def generateseries(n):\n",
    "   a=1\n",
    "   b=3\n",
    "   c=4\n",
    "   print(a)\n",
    "   print(b)\n",
    "   for i in range(n):\n",
    "       sum=a+b+c\n",
    "       a=b\n",
    "       b=c\n",
    "       c=sum\n",
    "       print(sum)\n",
    "   return\n",
    "generateseries(10)\n"
   ]
  },
  {
   "cell_type": "code",
   "execution_count": 1,
   "metadata": {},
   "outputs": [
    {
     "name": "stdout",
     "output_type": "stream",
     "text": [
      "3 2 1 1 0 "
     ]
    }
   ],
   "source": [
    "def reverseFibonacci(n): \n",
    "   a = [0] * n  \n",
    "   a[0] = 0 \n",
    "   a[1] = 1\n",
    "   for i in range(2, n):   \n",
    "       a[i] = a[i - 2] + a[i - 1]  \n",
    "   for i in range(n - 1, -1 , -1):   \n",
    "       print(a[i],end=\" \")  \n",
    "n = 5 \n",
    "reverseFibonacci(n)\n",
    "        "
   ]
  },
  {
   "cell_type": "code",
   "execution_count": 2,
   "metadata": {},
   "outputs": [
    {
     "name": "stdout",
     "output_type": "stream",
     "text": [
      "morning\n"
     ]
    }
   ],
   "source": [
    "s1 = [\"good morning\"]\n",
    "a = \"good\"\n",
    "b = \"morning\"\n",
    "if len(a) >= len(b):\n",
    "   print(\"good\")\n",
    "else:\n",
    "   print(\"morning\")\n",
    "   "
   ]
  },
  {
   "cell_type": "code",
   "execution_count": 3,
   "metadata": {},
   "outputs": [
    {
     "name": "stdout",
     "output_type": "stream",
     "text": [
      "1\n",
      "3\n",
      "9\n",
      "27\n",
      "81\n",
      "243\n",
      "729\n",
      "2187\n",
      "6561\n",
      "19683\n",
      "59049\n",
      "177147\n",
      "531441\n",
      "1594323\n",
      "4782969\n"
     ]
    }
   ],
   "source": [
    "def threepow(n):\n",
    "   for i in range(n):\n",
    "       k = 3 ** i\n",
    "       print(k)\n",
    "   return \n",
    "threepow(15)"
   ]
  },
  {
   "cell_type": "code",
   "execution_count": 24,
   "metadata": {},
   "outputs": [
    {
     "name": "stdout",
     "output_type": "stream",
     "text": [
      "1\n",
      "2\n",
      "4\n",
      "8\n",
      "16\n",
      "32\n",
      "64\n",
      "128\n",
      "256\n",
      "512\n"
     ]
    }
   ],
   "source": [
    "def twopow(n):\n",
    "   for i in range(n):\n",
    "       k=2**i\n",
    "       print(k)\n",
    "   return\n",
    "twopow(10)"
   ]
  },
  {
   "cell_type": "code",
   "execution_count": 4,
   "metadata": {},
   "outputs": [
    {
     "name": "stdout",
     "output_type": "stream",
     "text": [
      "1\n",
      "3\n",
      "9\n",
      "27\n",
      "81\n",
      "243\n",
      "729\n",
      "2187\n",
      "6561\n",
      "19683\n",
      "59049\n",
      "177147\n",
      "531441\n",
      "1594323\n",
      "4782969\n"
     ]
    }
   ],
   "source": []
  },
  {
   "cell_type": "code",
   "execution_count": 5,
   "metadata": {},
   "outputs": [
    {
     "name": "stdout",
     "output_type": "stream",
     "text": [
      "2 15 41 80 132 197 275 366 470 587 "
     ]
    },
    {
     "data": {
      "text/plain": [
       "13"
      ]
     },
     "execution_count": 5,
     "metadata": {},
     "output_type": "execute_result"
    }
   ],
   "source": [
    "def series(n):\n",
    "   m=2\n",
    "   for i in range(n):\n",
    "       r=13*i+m\n",
    "       print(r,end=\" \")\n",
    "       m=r\n",
    "   return\n",
    "series(10)\n",
    "13\n"
   ]
  },
  {
   "cell_type": "code",
   "execution_count": null,
   "metadata": {},
   "outputs": [
    {
     "name": "stdout",
     "output_type": "stream",
     "text": [
      "2 15 41 80 132 197 275 366 470 587 "
     ]
    }
   ],
   "source": [
    "\n",
    "def series(n):\n",
    "   m=2\n",
    "   for i in range(n):\n",
    "       r=13*i+m\n",
    "       print(r,end=\" \")\n",
    "       m=r\n",
    "   return\n",
    "series(10)\n",
    " #1! + 2! + 3! + 4! + 5! + ... + n!\n",
    "n=int(input(\"enter n value\"))\n",
    "for x in range(1,n):\n",
    "    print(x,\"!+\",end=\" \")"
   ]
  },
  {
   "cell_type": "code",
   "execution_count": null,
   "metadata": {},
   "outputs": [],
   "source": []
  },
  {
   "cell_type": "code",
   "execution_count": null,
   "metadata": {},
   "outputs": [],
   "source": []
  }
 ],
 "metadata": {
  "kernelspec": {
   "display_name": "Python 3",
   "language": "python",
   "name": "python3"
  },
  "language_info": {
   "codemirror_mode": {
    "name": "ipython",
    "version": 3
   },
   "file_extension": ".py",
   "mimetype": "text/x-python",
   "name": "python",
   "nbconvert_exporter": "python",
   "pygments_lexer": "ipython3",
   "version": "3.7.3"
  }
 },
 "nbformat": 4,
 "nbformat_minor": 2
}
